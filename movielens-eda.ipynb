{
 "cells": [
  {
   "cell_type": "code",
   "execution_count": 1,
   "metadata": {
    "_kg_hide-input": true,
    "_kg_hide-output": true
   },
   "outputs": [
    {
     "name": "stdout",
     "output_type": "stream",
     "text": [
      "Requirement already satisfied: pandasql in /opt/conda/lib/python3.6/site-packages (0.7.3)\r\n",
      "Requirement already satisfied: pandas in /opt/conda/lib/python3.6/site-packages (from pandasql) (0.25.1)\r\n",
      "Requirement already satisfied: numpy in /opt/conda/lib/python3.6/site-packages (from pandasql) (1.16.4)\r\n",
      "Requirement already satisfied: sqlalchemy in /opt/conda/lib/python3.6/site-packages (from pandasql) (1.3.7)\r\n",
      "Requirement already satisfied: python-dateutil>=2.6.1 in /opt/conda/lib/python3.6/site-packages (from pandas->pandasql) (2.8.0)\r\n",
      "Requirement already satisfied: pytz>=2017.2 in /opt/conda/lib/python3.6/site-packages (from pandas->pandasql) (2019.2)\r\n",
      "Requirement already satisfied: six>=1.5 in /opt/conda/lib/python3.6/site-packages (from python-dateutil>=2.6.1->pandas->pandasql) (1.12.0)\r\n",
      "Requirement already satisfied: statsmodels in /opt/conda/lib/python3.6/site-packages (0.10.1)\r\n",
      "Requirement already satisfied: scipy>=0.18 in /opt/conda/lib/python3.6/site-packages (from statsmodels) (1.2.1)\r\n",
      "Requirement already satisfied: patsy>=0.4.0 in /opt/conda/lib/python3.6/site-packages (from statsmodels) (0.5.1)\r\n",
      "Requirement already satisfied: numpy>=1.11 in /opt/conda/lib/python3.6/site-packages (from statsmodels) (1.16.4)\r\n",
      "Requirement already satisfied: pandas>=0.19 in /opt/conda/lib/python3.6/site-packages (from statsmodels) (0.25.1)\r\n",
      "Requirement already satisfied: six in /opt/conda/lib/python3.6/site-packages (from patsy>=0.4.0->statsmodels) (1.12.0)\r\n",
      "Requirement already satisfied: pytz>=2017.2 in /opt/conda/lib/python3.6/site-packages (from pandas>=0.19->statsmodels) (2019.2)\r\n",
      "Requirement already satisfied: python-dateutil>=2.6.1 in /opt/conda/lib/python3.6/site-packages (from pandas>=0.19->statsmodels) (2.8.0)\r\n",
      "Requirement already satisfied: matplotlib in /opt/conda/lib/python3.6/site-packages (3.0.3)\r\n",
      "Requirement already satisfied: numpy>=1.10.0 in /opt/conda/lib/python3.6/site-packages (from matplotlib) (1.16.4)\r\n",
      "Requirement already satisfied: cycler>=0.10 in /opt/conda/lib/python3.6/site-packages (from matplotlib) (0.10.0)\r\n",
      "Requirement already satisfied: kiwisolver>=1.0.1 in /opt/conda/lib/python3.6/site-packages (from matplotlib) (1.1.0)\r\n",
      "Requirement already satisfied: pyparsing!=2.0.4,!=2.1.2,!=2.1.6,>=2.0.1 in /opt/conda/lib/python3.6/site-packages (from matplotlib) (2.4.2)\r\n",
      "Requirement already satisfied: python-dateutil>=2.1 in /opt/conda/lib/python3.6/site-packages (from matplotlib) (2.8.0)\r\n",
      "Requirement already satisfied: six in /opt/conda/lib/python3.6/site-packages (from cycler>=0.10->matplotlib) (1.12.0)\r\n",
      "Requirement already satisfied: setuptools in /opt/conda/lib/python3.6/site-packages (from kiwisolver>=1.0.1->matplotlib) (41.0.1)\r\n"
     ]
    }
   ],
   "source": [
    "!pip install pandasql\n",
    "!pip install statsmodels\n",
    "!pip install matplotlib"
   ]
  },
  {
   "cell_type": "code",
   "execution_count": 2,
   "metadata": {},
   "outputs": [],
   "source": [
    "import pandasql as ps\n",
    "import pandas as pd\n",
    "import numpy as np\n",
    "import os\n",
    "from statsmodels.graphics.gofplots import qqplot\n",
    "from matplotlib import pyplot"
   ]
  },
  {
   "cell_type": "code",
   "execution_count": 3,
   "metadata": {
    "_cell_guid": "b1076dfc-b9ad-4769-8c92-a6c4dae69d19",
    "_uuid": "8f2839f25d086af736a60e9eeb907d3b93b6e0e5"
   },
   "outputs": [
    {
     "name": "stdout",
     "output_type": "stream",
     "text": [
      "/kaggle/input/movielens-20m-dataset/movie.csv\n",
      "/kaggle/input/movielens-20m-dataset/tag.csv\n",
      "/kaggle/input/movielens-20m-dataset/genome_tags.csv\n",
      "/kaggle/input/movielens-20m-dataset/genome_scores.csv\n",
      "/kaggle/input/movielens-20m-dataset/link.csv\n",
      "/kaggle/input/movielens-20m-dataset/rating.csv\n"
     ]
    }
   ],
   "source": [
    "for dirname, _, filenames in os.walk('/kaggle/input'):\n",
    "    for filename in filenames:\n",
    "        print(os.path.join(dirname, filename))"
   ]
  },
  {
   "cell_type": "code",
   "execution_count": 4,
   "metadata": {
    "_cell_guid": "79c7e3d0-c299-4dcb-8224-4455121ee9b0",
    "_uuid": "d629ff2d2480ee46fbb7e2d37f6b5fab8052498a"
   },
   "outputs": [],
   "source": [
    "genome_scores= pd.read_csv(\"/kaggle/input/movielens-20m-dataset/genome_scores.csv\")\n",
    "genome_tags= pd.read_csv(\"/kaggle/input/movielens-20m-dataset/genome_tags.csv\")\n",
    "movies= pd.read_csv(\"/kaggle/input/movielens-20m-dataset/movie.csv\")\n",
    "ratings= pd.read_csv(\"/kaggle/input/movielens-20m-dataset/rating.csv\")\n",
    "tag=pd.read_csv(\"/kaggle/input/movielens-20m-dataset/tag.csv\")\n"
   ]
  },
  {
   "cell_type": "code",
   "execution_count": 5,
   "metadata": {},
   "outputs": [
    {
     "data": {
      "text/html": [
       "<div>\n",
       "<style scoped>\n",
       "    .dataframe tbody tr th:only-of-type {\n",
       "        vertical-align: middle;\n",
       "    }\n",
       "\n",
       "    .dataframe tbody tr th {\n",
       "        vertical-align: top;\n",
       "    }\n",
       "\n",
       "    .dataframe thead th {\n",
       "        text-align: right;\n",
       "    }\n",
       "</style>\n",
       "<table border=\"1\" class=\"dataframe\">\n",
       "  <thead>\n",
       "    <tr style=\"text-align: right;\">\n",
       "      <th></th>\n",
       "      <th>movieId</th>\n",
       "      <th>genres</th>\n",
       "      <th>Title</th>\n",
       "      <th>Year</th>\n",
       "    </tr>\n",
       "  </thead>\n",
       "  <tbody>\n",
       "    <tr>\n",
       "      <td>0</td>\n",
       "      <td>1</td>\n",
       "      <td>Adventure|Animation|Children|Comedy|Fantasy</td>\n",
       "      <td>Toy Story</td>\n",
       "      <td>1995</td>\n",
       "    </tr>\n",
       "    <tr>\n",
       "      <td>1</td>\n",
       "      <td>2</td>\n",
       "      <td>Adventure|Children|Fantasy</td>\n",
       "      <td>Jumanji</td>\n",
       "      <td>1995</td>\n",
       "    </tr>\n",
       "    <tr>\n",
       "      <td>2</td>\n",
       "      <td>3</td>\n",
       "      <td>Comedy|Romance</td>\n",
       "      <td>Grumpier Old Men</td>\n",
       "      <td>1995</td>\n",
       "    </tr>\n",
       "    <tr>\n",
       "      <td>3</td>\n",
       "      <td>4</td>\n",
       "      <td>Comedy|Drama|Romance</td>\n",
       "      <td>Waiting to Exhale</td>\n",
       "      <td>1995</td>\n",
       "    </tr>\n",
       "    <tr>\n",
       "      <td>4</td>\n",
       "      <td>5</td>\n",
       "      <td>Comedy</td>\n",
       "      <td>Father of the Bride Part II</td>\n",
       "      <td>1995</td>\n",
       "    </tr>\n",
       "  </tbody>\n",
       "</table>\n",
       "</div>"
      ],
      "text/plain": [
       "   movieId                                       genres  \\\n",
       "0        1  Adventure|Animation|Children|Comedy|Fantasy   \n",
       "1        2                   Adventure|Children|Fantasy   \n",
       "2        3                               Comedy|Romance   \n",
       "3        4                         Comedy|Drama|Romance   \n",
       "4        5                                       Comedy   \n",
       "\n",
       "                         Title  Year  \n",
       "0                    Toy Story  1995  \n",
       "1                      Jumanji  1995  \n",
       "2             Grumpier Old Men  1995  \n",
       "3            Waiting to Exhale  1995  \n",
       "4  Father of the Bride Part II  1995  "
      ]
     },
     "execution_count": 5,
     "metadata": {},
     "output_type": "execute_result"
    }
   ],
   "source": [
    "movies[\"title\"]=movies.title.str.strip()\n",
    "movies[\"Title\"]=movies.title.str[:-7]\n",
    "movies[\"Year\"]=movies.title.str[-5:-1]\n",
    "movies.drop(columns=['title'],inplace=True)\n",
    "#movies.genres.str.split('|',expand=True)\n",
    "movies.head()"
   ]
  },
  {
   "cell_type": "markdown",
   "metadata": {},
   "source": [
    "<table>\n",
    "    <tr>\n",
    "        <td style=\"font-size:24px; align=center; font-weight: bold\" >Cleaning Movie Tags - Gathering most relevant tags with high predictive power</td>\n",
    "    </tr>\n",
    "</table>\n",
    "    \n"
   ]
  },
  {
   "cell_type": "code",
   "execution_count": 6,
   "metadata": {},
   "outputs": [
    {
     "data": {
      "text/plain": [
       "<matplotlib.axes._subplots.AxesSubplot at 0x7f66cf080470>"
      ]
     },
     "execution_count": 6,
     "metadata": {},
     "output_type": "execute_result"
    },
    {
     "data": {
      "image/png": "[encoded data removed]",
      "text/plain": [
       "<Figure size 432x288 with 1 Axes>"
      ]
     },
     "metadata": {
      "needs_background": "light"
     },
     "output_type": "display_data"
    }
   ],
   "source": [
    "genome_scores.relevance.hist(bins=20)"
   ]
  },
  {
   "cell_type": "code",
   "execution_count": 7,
   "metadata": {},
   "outputs": [
    {
     "data": {
      "text/plain": [
       "<matplotlib.axes._subplots.AxesSubplot at 0x7f67258c7c88>"
      ]
     },
     "execution_count": 7,
     "metadata": {},
     "output_type": "execute_result"
    },
    {
     "data": {
      "image/png": "[encoded data removed]",
      "text/plain": [
       "<Figure size 432x288 with 1 Axes>"
      ]
     },
     "metadata": {
      "needs_background": "light"
     },
     "output_type": "display_data"
    }
   ],
   "source": [
    "genome_scores.loc[genome_scores.relevance>0.75,:].groupby('tagId').relevance.agg('mean').hist(bins=20)"
   ]
  },
  {
   "cell_type": "markdown",
   "metadata": {},
   "source": [
    "Most of the movies have a low relevance score. To determine the relevance threshold, we use the normal distribution. Since most statistical tests for normalcy are not suited for a large number of samples, we determine normaly by observing the distribuition curve. By trial and error we see that the bell curve is obtained when we set the threshold at 75%."
   ]
  },
  {
   "cell_type": "code",
   "execution_count": 8,
   "metadata": {},
   "outputs": [
    {
     "name": "stdout",
     "output_type": "stream",
     "text": [
      "Portion of scores with relevance >=75% = 0.01\n",
      "1113 of 1128 tags have >75% of relevance atlease once\n"
     ]
    }
   ],
   "source": [
    "print(\"Portion of scores with relevance >=75% =\",round(genome_scores.loc[genome_scores.relevance>=0.75].shape[0]/genome_scores.shape[0],2))\n",
    "print(len(genome_scores.loc[genome_scores.relevance>0.75,:].tagId.unique()),\"of\",len(genome_scores.tagId.unique()),\"tags have >75% of relevance atlease once\")"
   ]
  },
  {
   "cell_type": "markdown",
   "metadata": {},
   "source": [
    "By taking relevance >75% we only focus on the most relevant tags while also getting rid of 99% of irrelevant scores"
   ]
  },
  {
   "cell_type": "code",
   "execution_count": 9,
   "metadata": {},
   "outputs": [
    {
     "name": "stdout",
     "output_type": "stream",
     "text": [
      "Distinct Tags:  1113 / 1128 \t\tMovies with atleast 1 tag > 75% relevance:  10280 / 10381\n"
     ]
    }
   ],
   "source": [
    "print(\"Distinct Tags: \",genome_scores.loc[genome_scores.relevance>0.75,:].tagId.nunique(),\n",
    "      \"/\",genome_scores.tagId.nunique(),\n",
    "      \"\\t\\tMovies with atleast 1 tag > 75% relevance: \",genome_scores.loc[genome_scores.relevance>0.75,:].movieId.nunique(),\n",
    "      \"/\",genome_scores.movieId.nunique())"
   ]
  },
  {
   "cell_type": "code",
   "execution_count": 10,
   "metadata": {},
   "outputs": [],
   "source": [
    "min_relevance =0.75\n",
    "mapping = genome_scores.loc[genome_scores.relevance>min_relevance,:].groupby('tagId').movieId.nunique()#.astype('Int64')\n",
    "\n",
    "genome_tags['Movies_With_High_Relevance'] = genome_tags['tagId'].map(mapping)\n",
    "\n",
    "genome_tags['Avg_Relevance'] = genome_tags['tagId'].map(genome_scores.groupby('tagId').relevance.agg('mean'))\n",
    "\n",
    "genome_tags['Avg_Relevance_Filtered'] = genome_tags['tagId'].map(genome_scores.loc[genome_scores.relevance>min_relevance,:].groupby('tagId').relevance.agg('mean'))\n"
   ]
  },
  {
   "cell_type": "code",
   "execution_count": 11,
   "metadata": {},
   "outputs": [
    {
     "name": "stdout",
     "output_type": "stream",
     "text": [
      "Most powerful predictor tags\n"
     ]
    },
    {
     "data": {
      "text/html": [
       "<div>\n",
       "<style scoped>\n",
       "    .dataframe tbody tr th:only-of-type {\n",
       "        vertical-align: middle;\n",
       "    }\n",
       "\n",
       "    .dataframe tbody tr th {\n",
       "        vertical-align: top;\n",
       "    }\n",
       "\n",
       "    .dataframe thead th {\n",
       "        text-align: right;\n",
       "    }\n",
       "</style>\n",
       "<table border=\"1\" class=\"dataframe\">\n",
       "  <thead>\n",
       "    <tr style=\"text-align: right;\">\n",
       "      <th></th>\n",
       "      <th>tagId</th>\n",
       "      <th>tag</th>\n",
       "      <th>Movies_With_High_Relevance</th>\n",
       "      <th>Avg_Relevance</th>\n",
       "      <th>Avg_Relevance_Filtered</th>\n",
       "    </tr>\n",
       "  </thead>\n",
       "  <tbody>\n",
       "    <tr>\n",
       "      <td>0</td>\n",
       "      <td>742</td>\n",
       "      <td>original</td>\n",
       "      <td>4237.0</td>\n",
       "      <td>0.730527</td>\n",
       "      <td>0.817262</td>\n",
       "    </tr>\n",
       "    <tr>\n",
       "      <td>1</td>\n",
       "      <td>230</td>\n",
       "      <td>comedy</td>\n",
       "      <td>1220.0</td>\n",
       "      <td>0.250628</td>\n",
       "      <td>0.888354</td>\n",
       "    </tr>\n",
       "    <tr>\n",
       "      <td>2</td>\n",
       "      <td>270</td>\n",
       "      <td>criterion</td>\n",
       "      <td>1155.0</td>\n",
       "      <td>0.388207</td>\n",
       "      <td>0.881498</td>\n",
       "    </tr>\n",
       "    <tr>\n",
       "      <td>3</td>\n",
       "      <td>646</td>\n",
       "      <td>mentor</td>\n",
       "      <td>1087.0</td>\n",
       "      <td>0.530233</td>\n",
       "      <td>0.833597</td>\n",
       "    </tr>\n",
       "    <tr>\n",
       "      <td>4</td>\n",
       "      <td>19</td>\n",
       "      <td>action</td>\n",
       "      <td>999.0</td>\n",
       "      <td>0.265466</td>\n",
       "      <td>0.904246</td>\n",
       "    </tr>\n",
       "    <tr>\n",
       "      <td>5</td>\n",
       "      <td>323</td>\n",
       "      <td>drama</td>\n",
       "      <td>928.0</td>\n",
       "      <td>0.361095</td>\n",
       "      <td>0.845060</td>\n",
       "    </tr>\n",
       "    <tr>\n",
       "      <td>6</td>\n",
       "      <td>846</td>\n",
       "      <td>relationships</td>\n",
       "      <td>889.0</td>\n",
       "      <td>0.282563</td>\n",
       "      <td>0.868493</td>\n",
       "    </tr>\n",
       "    <tr>\n",
       "      <td>7</td>\n",
       "      <td>972</td>\n",
       "      <td>storytelling</td>\n",
       "      <td>868.0</td>\n",
       "      <td>0.448479</td>\n",
       "      <td>0.836237</td>\n",
       "    </tr>\n",
       "    <tr>\n",
       "      <td>8</td>\n",
       "      <td>107</td>\n",
       "      <td>based on a book</td>\n",
       "      <td>839.0</td>\n",
       "      <td>0.273905</td>\n",
       "      <td>0.894765</td>\n",
       "    </tr>\n",
       "    <tr>\n",
       "      <td>9</td>\n",
       "      <td>465</td>\n",
       "      <td>great acting</td>\n",
       "      <td>826.0</td>\n",
       "      <td>0.345783</td>\n",
       "      <td>0.846185</td>\n",
       "    </tr>\n",
       "  </tbody>\n",
       "</table>\n",
       "</div>"
      ],
      "text/plain": [
       "   tagId              tag  Movies_With_High_Relevance  Avg_Relevance  \\\n",
       "0    742         original                      4237.0       0.730527   \n",
       "1    230           comedy                      1220.0       0.250628   \n",
       "2    270        criterion                      1155.0       0.388207   \n",
       "3    646           mentor                      1087.0       0.530233   \n",
       "4     19           action                       999.0       0.265466   \n",
       "5    323            drama                       928.0       0.361095   \n",
       "6    846    relationships                       889.0       0.282563   \n",
       "7    972     storytelling                       868.0       0.448479   \n",
       "8    107  based on a book                       839.0       0.273905   \n",
       "9    465     great acting                       826.0       0.345783   \n",
       "\n",
       "   Avg_Relevance_Filtered  \n",
       "0                0.817262  \n",
       "1                0.888354  \n",
       "2                0.881498  \n",
       "3                0.833597  \n",
       "4                0.904246  \n",
       "5                0.845060  \n",
       "6                0.868493  \n",
       "7                0.836237  \n",
       "8                0.894765  \n",
       "9                0.846185  "
      ]
     },
     "execution_count": 11,
     "metadata": {},
     "output_type": "execute_result"
    }
   ],
   "source": [
    "print(\"Most powerful predictor tags\")\n",
    "genome_tags.sort_values(['Movies_With_High_Relevance'],ascending=False)[:10].reset_index(drop=True)"
   ]
  },
  {
   "cell_type": "code",
   "execution_count": 12,
   "metadata": {},
   "outputs": [
    {
     "name": "stdout",
     "output_type": "stream",
     "text": [
      "Least Powerful Predictor Tags\n"
     ]
    },
    {
     "data": {
      "text/html": [
       "<div>\n",
       "<style scoped>\n",
       "    .dataframe tbody tr th:only-of-type {\n",
       "        vertical-align: middle;\n",
       "    }\n",
       "\n",
       "    .dataframe tbody tr th {\n",
       "        vertical-align: top;\n",
       "    }\n",
       "\n",
       "    .dataframe thead th {\n",
       "        text-align: right;\n",
       "    }\n",
       "</style>\n",
       "<table border=\"1\" class=\"dataframe\">\n",
       "  <thead>\n",
       "    <tr style=\"text-align: right;\">\n",
       "      <th></th>\n",
       "      <th>tagId</th>\n",
       "      <th>tag</th>\n",
       "      <th>Movies_With_High_Relevance</th>\n",
       "      <th>Avg_Relevance</th>\n",
       "      <th>Avg_Relevance_Filtered</th>\n",
       "    </tr>\n",
       "  </thead>\n",
       "  <tbody>\n",
       "    <tr>\n",
       "      <td>1041</td>\n",
       "      <td>1042</td>\n",
       "      <td>travel</td>\n",
       "      <td>1.0</td>\n",
       "      <td>0.047756</td>\n",
       "      <td>0.76650</td>\n",
       "    </tr>\n",
       "    <tr>\n",
       "      <td>170</td>\n",
       "      <td>171</td>\n",
       "      <td>bullshit history</td>\n",
       "      <td>1.0</td>\n",
       "      <td>0.063721</td>\n",
       "      <td>0.79175</td>\n",
       "    </tr>\n",
       "    <tr>\n",
       "      <td>708</td>\n",
       "      <td>709</td>\n",
       "      <td>no plot</td>\n",
       "      <td>1.0</td>\n",
       "      <td>0.113762</td>\n",
       "      <td>0.80900</td>\n",
       "    </tr>\n",
       "    <tr>\n",
       "      <td>761</td>\n",
       "      <td>762</td>\n",
       "      <td>over the top</td>\n",
       "      <td>1.0</td>\n",
       "      <td>0.062091</td>\n",
       "      <td>0.90750</td>\n",
       "    </tr>\n",
       "    <tr>\n",
       "      <td>199</td>\n",
       "      <td>200</td>\n",
       "      <td>chicago</td>\n",
       "      <td>1.0</td>\n",
       "      <td>0.026280</td>\n",
       "      <td>0.87350</td>\n",
       "    </tr>\n",
       "    <tr>\n",
       "      <td>37</td>\n",
       "      <td>38</td>\n",
       "      <td>airplane</td>\n",
       "      <td>NaN</td>\n",
       "      <td>0.019181</td>\n",
       "      <td>NaN</td>\n",
       "    </tr>\n",
       "    <tr>\n",
       "      <td>102</td>\n",
       "      <td>103</td>\n",
       "      <td>bad sequel</td>\n",
       "      <td>NaN</td>\n",
       "      <td>0.016774</td>\n",
       "      <td>NaN</td>\n",
       "    </tr>\n",
       "    <tr>\n",
       "      <td>154</td>\n",
       "      <td>155</td>\n",
       "      <td>boring</td>\n",
       "      <td>NaN</td>\n",
       "      <td>0.127249</td>\n",
       "      <td>NaN</td>\n",
       "    </tr>\n",
       "    <tr>\n",
       "      <td>162</td>\n",
       "      <td>163</td>\n",
       "      <td>brilliant</td>\n",
       "      <td>NaN</td>\n",
       "      <td>0.030055</td>\n",
       "      <td>NaN</td>\n",
       "    </tr>\n",
       "    <tr>\n",
       "      <td>255</td>\n",
       "      <td>256</td>\n",
       "      <td>corny</td>\n",
       "      <td>NaN</td>\n",
       "      <td>0.064105</td>\n",
       "      <td>NaN</td>\n",
       "    </tr>\n",
       "  </tbody>\n",
       "</table>\n",
       "</div>"
      ],
      "text/plain": [
       "      tagId               tag  Movies_With_High_Relevance  Avg_Relevance  \\\n",
       "1041   1042            travel                         1.0       0.047756   \n",
       "170     171  bullshit history                         1.0       0.063721   \n",
       "708     709           no plot                         1.0       0.113762   \n",
       "761     762      over the top                         1.0       0.062091   \n",
       "199     200           chicago                         1.0       0.026280   \n",
       "37       38          airplane                         NaN       0.019181   \n",
       "102     103        bad sequel                         NaN       0.016774   \n",
       "154     155            boring                         NaN       0.127249   \n",
       "162     163         brilliant                         NaN       0.030055   \n",
       "255     256             corny                         NaN       0.064105   \n",
       "\n",
       "      Avg_Relevance_Filtered  \n",
       "1041                 0.76650  \n",
       "170                  0.79175  \n",
       "708                  0.80900  \n",
       "761                  0.90750  \n",
       "199                  0.87350  \n",
       "37                       NaN  \n",
       "102                      NaN  \n",
       "154                      NaN  \n",
       "162                      NaN  \n",
       "255                      NaN  "
      ]
     },
     "execution_count": 12,
     "metadata": {},
     "output_type": "execute_result"
    }
   ],
   "source": [
    "print(\"Least Powerful Predictor Tags\")\n",
    "genome_tags.sort_values(['Movies_With_High_Relevance'],ascending=False)[-20:-10]"
   ]
  },
  {
   "cell_type": "code",
   "execution_count": 13,
   "metadata": {},
   "outputs": [
    {
     "data": {
      "text/plain": [
       "<matplotlib.axes._subplots.AxesSubplot at 0x7f6725812400>"
      ]
     },
     "execution_count": 13,
     "metadata": {},
     "output_type": "execute_result"
    },
    {
     "data": {
      "image/png": "[encoded data removed]",
      "text/plain": [
       "<Figure size 432x288 with 1 Axes>"
      ]
     },
     "metadata": {
      "needs_background": "light"
     },
     "output_type": "display_data"
    }
   ],
   "source": [
    "genome_tags.loc[genome_tags.Movies_With_High_Relevance<500].Movies_With_High_Relevance.reset_index(drop=True).hist(bins=100)"
   ]
  },
  {
   "cell_type": "code",
   "execution_count": 14,
   "metadata": {},
   "outputs": [
    {
     "data": {
      "text/plain": [
       "401"
      ]
     },
     "execution_count": 14,
     "metadata": {},
     "output_type": "execute_result"
    }
   ],
   "source": [
    "genome_tags.loc[genome_tags.Movies_With_High_Relevance>100].shape[0]"
   ]
  },
  {
   "cell_type": "markdown",
   "metadata": {},
   "source": [
    "To determine the tags to use as features for our recommendations systems, we are seeing how many movies are the tags highly relevant to.\n",
    "Given that we have 10381 movies, I choose to take tags that are relavant to atleast 100 movies.\n",
    "\n",
    "Note:need to use box plot to identify outliers"
   ]
  },
  {
   "cell_type": "markdown",
   "metadata": {},
   "source": [
    "**Top 5 popular tags of each year - for movies > 4.5 rating**"
   ]
  },
  {
   "cell_type": "markdown",
   "metadata": {},
   "source": [
    "\n",
    "<table>\n",
    "    <tr>\n",
    "        <td style=\"font-size:24px; align=center; font-weight: bold\" >Cleaning Movie List - Preparing Feature Set for recommendable movies</td>\n",
    "    </tr>\n",
    "</table>\n",
    "    \n"
   ]
  },
  {
   "cell_type": "code",
   "execution_count": 15,
   "metadata": {},
   "outputs": [
    {
     "name": "stdout",
     "output_type": "stream",
     "text": [
      "   movieId    rating\n",
      "0        1  3.921240\n",
      "1        2  3.211977\n",
      "2        3  3.151040\n",
      "3        4  2.861393\n",
      "4        5  3.064592\n",
      "   movieId  num_of_ratings\n",
      "0        1           49695\n",
      "1        2           22243\n",
      "2        3           12735\n",
      "3        4            2756\n",
      "4        5           12161\n"
     ]
    }
   ],
   "source": [
    "ud_movie_ratings=pd.DataFrame(ratings.groupby('movieId').rating.agg('mean').reset_index())\n",
    "ud_movie_ratings_count=pd.DataFrame(ratings.groupby('movieId').rating.agg('count').reset_index())\n",
    "ud_movie_ratings_count.columns=[\"movieId\",\"num_of_ratings\"]\n",
    "print(ud_movie_ratings.head())\n",
    "print(ud_movie_ratings_count.head())"
   ]
  },
  {
   "cell_type": "code",
   "execution_count": 16,
   "metadata": {},
   "outputs": [],
   "source": [
    "result = pd.merge(movies, \n",
    "                  ud_movie_ratings,\n",
    "                  left_on='movieId',\n",
    "                  right_on='movieId',\n",
    "                  how='left')\n",
    "result = pd.merge(result, \n",
    "                  ud_movie_ratings_count,\n",
    "                  left_on='movieId',\n",
    "                  right_on='movieId',\n",
    "                  how='left')\n",
    "result=result.loc[result.Year.str.isnumeric(),:]\n",
    "result[\"Year\"]=result.Year.astype(int)"
   ]
  },
  {
   "cell_type": "markdown",
   "metadata": {},
   "source": [
    "Being a recommendation system we want to focus only on movies that are liked by the people who have watched it. So we will restrict are training data to movies with above average rating. So I will use 3.5 which is a personal estimate.\n",
    "\n",
    "For future work we can experiment with more data."
   ]
  },
  {
   "cell_type": "code",
   "execution_count": 17,
   "metadata": {},
   "outputs": [
    {
     "name": "stdout",
     "output_type": "stream",
     "text": [
      "Number of movies that fit this criteria are: 6115\n"
     ]
    },
    {
     "data": {
      "text/html": [
       "<div>\n",
       "<style scoped>\n",
       "    .dataframe tbody tr th:only-of-type {\n",
       "        vertical-align: middle;\n",
       "    }\n",
       "\n",
       "    .dataframe tbody tr th {\n",
       "        vertical-align: top;\n",
       "    }\n",
       "\n",
       "    .dataframe thead th {\n",
       "        text-align: right;\n",
       "    }\n",
       "</style>\n",
       "<table border=\"1\" class=\"dataframe\">\n",
       "  <thead>\n",
       "    <tr style=\"text-align: right;\">\n",
       "      <th></th>\n",
       "      <th>movieId</th>\n",
       "      <th>genres</th>\n",
       "      <th>Title</th>\n",
       "      <th>Year</th>\n",
       "      <th>rating</th>\n",
       "      <th>num_of_ratings</th>\n",
       "    </tr>\n",
       "  </thead>\n",
       "  <tbody>\n",
       "    <tr>\n",
       "      <td>0</td>\n",
       "      <td>1</td>\n",
       "      <td>Adventure|Animation|Children|Comedy|Fantasy</td>\n",
       "      <td>Toy Story</td>\n",
       "      <td>1995</td>\n",
       "      <td>3.921240</td>\n",
       "      <td>49695.0</td>\n",
       "    </tr>\n",
       "    <tr>\n",
       "      <td>5</td>\n",
       "      <td>6</td>\n",
       "      <td>Action|Crime|Thriller</td>\n",
       "      <td>Heat</td>\n",
       "      <td>1995</td>\n",
       "      <td>3.834930</td>\n",
       "      <td>23899.0</td>\n",
       "    </tr>\n",
       "    <tr>\n",
       "      <td>10</td>\n",
       "      <td>11</td>\n",
       "      <td>Comedy|Drama|Romance</td>\n",
       "      <td>American President, The</td>\n",
       "      <td>1995</td>\n",
       "      <td>3.667713</td>\n",
       "      <td>18162.0</td>\n",
       "    </tr>\n",
       "    <tr>\n",
       "      <td>15</td>\n",
       "      <td>16</td>\n",
       "      <td>Crime|Drama</td>\n",
       "      <td>Casino</td>\n",
       "      <td>1995</td>\n",
       "      <td>3.787455</td>\n",
       "      <td>17394.0</td>\n",
       "    </tr>\n",
       "    <tr>\n",
       "      <td>16</td>\n",
       "      <td>17</td>\n",
       "      <td>Drama|Romance</td>\n",
       "      <td>Sense and Sensibility</td>\n",
       "      <td>1995</td>\n",
       "      <td>3.968573</td>\n",
       "      <td>20667.0</td>\n",
       "    </tr>\n",
       "  </tbody>\n",
       "</table>\n",
       "</div>"
      ],
      "text/plain": [
       "    movieId                                       genres  \\\n",
       "0         1  Adventure|Animation|Children|Comedy|Fantasy   \n",
       "5         6                        Action|Crime|Thriller   \n",
       "10       11                         Comedy|Drama|Romance   \n",
       "15       16                                  Crime|Drama   \n",
       "16       17                                Drama|Romance   \n",
       "\n",
       "                      Title  Year    rating  num_of_ratings  \n",
       "0                 Toy Story  1995  3.921240         49695.0  \n",
       "5                      Heat  1995  3.834930         23899.0  \n",
       "10  American President, The  1995  3.667713         18162.0  \n",
       "15                   Casino  1995  3.787455         17394.0  \n",
       "16    Sense and Sensibility  1995  3.968573         20667.0  "
      ]
     },
     "execution_count": 17,
     "metadata": {},
     "output_type": "execute_result"
    }
   ],
   "source": [
    "result =result.loc[((result.Year>1980)&(result.rating>=3.5))]\n",
    "print(\"Number of movies that fit this criteria are:\",result.shape[0])\n",
    "result.head()"
   ]
  },
  {
   "cell_type": "code",
   "execution_count": 18,
   "metadata": {},
   "outputs": [
    {
     "data": {
      "text/plain": [
       "<matplotlib.axes._subplots.AxesSubplot at 0x7f66ce702320>"
      ]
     },
     "execution_count": 18,
     "metadata": {},
     "output_type": "execute_result"
    },
    {
     "data": {
      "image/png": "[encoded data removed]",
      "text/plain": [
       "<Figure size 432x288 with 1 Axes>"
      ]
     },
     "metadata": {
      "needs_background": "light"
     },
     "output_type": "display_data"
    }
   ],
   "source": [
    "result.Year.sort_values().hist(bins=200)"
   ]
  },
  {
   "cell_type": "code",
   "execution_count": 19,
   "metadata": {},
   "outputs": [
    {
     "data": {
      "text/plain": [
       "<matplotlib.axes._subplots.AxesSubplot at 0x7f66ce523860>"
      ]
     },
     "execution_count": 19,
     "metadata": {},
     "output_type": "execute_result"
    },
    {
     "data": {
      "image/png": "[encoded data removed]",
      "text/plain": [
       "<Figure size 432x288 with 1 Axes>"
      ]
     },
     "metadata": {
      "needs_background": "light"
     },
     "output_type": "display_data"
    }
   ],
   "source": [
    "result.rating.plot.box()"
   ]
  },
  {
   "cell_type": "markdown",
   "metadata": {},
   "source": [
    "Many movies have a rating of 5 which seems odd. So we should look at the number of ratings that contributed to this."
   ]
  },
  {
   "cell_type": "code",
   "execution_count": 20,
   "metadata": {},
   "outputs": [
    {
     "data": {
      "text/plain": [
       "1.0        1127\n",
       "2.0         487\n",
       "3.0         295\n",
       "4.0         217\n",
       "5.0         150\n",
       "           ... \n",
       "2292.0        1\n",
       "12267.0       1\n",
       "1065.0        1\n",
       "817.0         1\n",
       "2580.0        1\n",
       "Name: num_of_ratings, Length: 1764, dtype: int64"
      ]
     },
     "execution_count": 20,
     "metadata": {},
     "output_type": "execute_result"
    }
   ],
   "source": [
    "result.num_of_ratings.value_counts()"
   ]
  },
  {
   "cell_type": "code",
   "execution_count": 21,
   "metadata": {},
   "outputs": [
    {
     "data": {
      "text/plain": [
       "<matplotlib.axes._subplots.AxesSubplot at 0x7f66ce408b00>"
      ]
     },
     "execution_count": 21,
     "metadata": {},
     "output_type": "execute_result"
    },
    {
     "data": {
      "image/png": "[encoded data removed]",
      "text/plain": [
       "<Figure size 432x288 with 1 Axes>"
      ]
     },
     "metadata": {
      "needs_background": "light"
     },
     "output_type": "display_data"
    }
   ],
   "source": [
    "result.num_of_ratings.plot.box()"
   ]
  },
  {
   "cell_type": "code",
   "execution_count": 22,
   "metadata": {},
   "outputs": [
    {
     "data": {
      "text/plain": [
       "<matplotlib.axes._subplots.AxesSubplot at 0x7f66ce36ba90>"
      ]
     },
     "execution_count": 22,
     "metadata": {},
     "output_type": "execute_result"
    },
    {
     "data": {
      "image/png": "[encoded data removed]",
      "text/plain": [
       "<Figure size 432x288 with 1 Axes>"
      ]
     },
     "metadata": {
      "needs_background": "light"
     },
     "output_type": "display_data"
    }
   ],
   "source": [
    "result.num_of_ratings.hist(bins=80)"
   ]
  },
  {
   "cell_type": "markdown",
   "metadata": {},
   "source": [
    "We see that, a lot of the movies have very few ratings. These are outliers and will make our features set sparse. So we will need to estimate a good threshold for the minimum number of ratings we need. \n",
    "The above box plot or histograms do not help us gain a better sense of the data as we would have hoped. So we need to try other approaches."
   ]
  },
  {
   "cell_type": "code",
   "execution_count": 23,
   "metadata": {},
   "outputs": [
    {
     "name": "stdout",
     "output_type": "stream",
     "text": [
      "Analysis of Number of Ratings for movies \n",
      "80th Quantile:\t 460.0 \n",
      "Median:\t\t 20.0 \n",
      "Mean:\t\t 1474.9355682747344 \n",
      "\n",
      "Following Trossets rule of thumb for a good number of observations \n",
      "25th Quantile:\t 160.0 \n",
      "75th Quantile:\t 2646.0 \n",
      "Median:\t\t 558.0 \n",
      "Mean:\t\t 3124.5022561610554\n"
     ]
    }
   ],
   "source": [
    "print(\"Analysis of Number of Ratings for movies\",\n",
    "      \"\\n80th Quantile:\\t\",result.num_of_ratings.quantile(0.75),\n",
    "      \"\\nMedian:\\t\\t\",result.num_of_ratings.median(),\n",
    "      \"\\nMean:\\t\\t\",result.num_of_ratings.mean(),\n",
    "      \"\\n\\nFollowing Trossets rule of thumb for a good number of observations\", \n",
    "      \"\\n25th Quantile:\\t\",result.loc[((result.num_of_ratings>32)),:].num_of_ratings.quantile(0.25),\n",
    "      \"\\n75th Quantile:\\t\",result.loc[((result.num_of_ratings>32)),:].num_of_ratings.quantile(0.75),\n",
    "      \"\\nMedian:\\t\\t\",result.loc[((result.num_of_ratings>32)),:].num_of_ratings.median(),\n",
    "      \"\\nMean:\\t\\t\",result.loc[((result.num_of_ratings>32)),:].num_of_ratings.mean())"
   ]
  },
  {
   "cell_type": "code",
   "execution_count": 24,
   "metadata": {},
   "outputs": [],
   "source": [
    "result=result.loc[((result.num_of_ratings>32))]"
   ]
  },
  {
   "cell_type": "code",
   "execution_count": 25,
   "metadata": {},
   "outputs": [
    {
     "data": {
      "text/plain": [
       "34.0    15\n",
       "36.0    15\n",
       "35.0    15\n",
       "40.0    14\n",
       "38.0    14\n",
       "Name: num_of_ratings, dtype: int64"
      ]
     },
     "execution_count": 25,
     "metadata": {},
     "output_type": "execute_result"
    }
   ],
   "source": [
    "result.num_of_ratings.value_counts().head()"
   ]
  },
  {
   "cell_type": "code",
   "execution_count": 26,
   "metadata": {},
   "outputs": [
    {
     "name": "stdout",
     "output_type": "stream",
     "text": [
      "Total number of movies that will comprise are feature set are: 2881\n"
     ]
    }
   ],
   "source": [
    "print(\"Total number of movies that will comprise are feature set are:\",result.shape[0])"
   ]
  },
  {
   "cell_type": "markdown",
   "metadata": {},
   "source": [
    "# Building Recommendation System"
   ]
  },
  {
   "cell_type": "code",
   "execution_count": 27,
   "metadata": {},
   "outputs": [],
   "source": [
    "ud_genome_tags=genome_tags.loc[genome_tags.Movies_With_High_Relevance>100]\n",
    "ud_movie_fs=result"
   ]
  },
  {
   "cell_type": "code",
   "execution_count": 28,
   "metadata": {},
   "outputs": [
    {
     "data": {
      "text/html": [
       "<div>\n",
       "<style scoped>\n",
       "    .dataframe tbody tr th:only-of-type {\n",
       "        vertical-align: middle;\n",
       "    }\n",
       "\n",
       "    .dataframe tbody tr th {\n",
       "        vertical-align: top;\n",
       "    }\n",
       "\n",
       "    .dataframe thead th {\n",
       "        text-align: right;\n",
       "    }\n",
       "</style>\n",
       "<table border=\"1\" class=\"dataframe\">\n",
       "  <thead>\n",
       "    <tr style=\"text-align: right;\">\n",
       "      <th></th>\n",
       "      <th>movieId</th>\n",
       "      <th>genres</th>\n",
       "      <th>Title</th>\n",
       "      <th>Year</th>\n",
       "      <th>rating</th>\n",
       "      <th>num_of_ratings</th>\n",
       "    </tr>\n",
       "  </thead>\n",
       "  <tbody>\n",
       "    <tr>\n",
       "      <td>0</td>\n",
       "      <td>1</td>\n",
       "      <td>Adventure|Animation|Children|Comedy|Fantasy</td>\n",
       "      <td>Toy Story</td>\n",
       "      <td>1995</td>\n",
       "      <td>3.921240</td>\n",
       "      <td>49695.0</td>\n",
       "    </tr>\n",
       "    <tr>\n",
       "      <td>5</td>\n",
       "      <td>6</td>\n",
       "      <td>Action|Crime|Thriller</td>\n",
       "      <td>Heat</td>\n",
       "      <td>1995</td>\n",
       "      <td>3.834930</td>\n",
       "      <td>23899.0</td>\n",
       "    </tr>\n",
       "    <tr>\n",
       "      <td>10</td>\n",
       "      <td>11</td>\n",
       "      <td>Comedy|Drama|Romance</td>\n",
       "      <td>American President, The</td>\n",
       "      <td>1995</td>\n",
       "      <td>3.667713</td>\n",
       "      <td>18162.0</td>\n",
       "    </tr>\n",
       "    <tr>\n",
       "      <td>15</td>\n",
       "      <td>16</td>\n",
       "      <td>Crime|Drama</td>\n",
       "      <td>Casino</td>\n",
       "      <td>1995</td>\n",
       "      <td>3.787455</td>\n",
       "      <td>17394.0</td>\n",
       "    </tr>\n",
       "    <tr>\n",
       "      <td>16</td>\n",
       "      <td>17</td>\n",
       "      <td>Drama|Romance</td>\n",
       "      <td>Sense and Sensibility</td>\n",
       "      <td>1995</td>\n",
       "      <td>3.968573</td>\n",
       "      <td>20667.0</td>\n",
       "    </tr>\n",
       "  </tbody>\n",
       "</table>\n",
       "</div>"
      ],
      "text/plain": [
       "    movieId                                       genres  \\\n",
       "0         1  Adventure|Animation|Children|Comedy|Fantasy   \n",
       "5         6                        Action|Crime|Thriller   \n",
       "10       11                         Comedy|Drama|Romance   \n",
       "15       16                                  Crime|Drama   \n",
       "16       17                                Drama|Romance   \n",
       "\n",
       "                      Title  Year    rating  num_of_ratings  \n",
       "0                 Toy Story  1995  3.921240         49695.0  \n",
       "5                      Heat  1995  3.834930         23899.0  \n",
       "10  American President, The  1995  3.667713         18162.0  \n",
       "15                   Casino  1995  3.787455         17394.0  \n",
       "16    Sense and Sensibility  1995  3.968573         20667.0  "
      ]
     },
     "execution_count": 28,
     "metadata": {},
     "output_type": "execute_result"
    }
   ],
   "source": [
    "ud_movie_fs.head()"
   ]
  },
  {
   "cell_type": "code",
   "execution_count": 29,
   "metadata": {},
   "outputs": [
    {
     "name": "stdout",
     "output_type": "stream",
     "text": [
      "Number of records including high relevance tags: 4162781\n",
      "Number of records including tags for movie subset: 1043803\n"
     ]
    },
    {
     "data": {
      "text/html": [
       "<div>\n",
       "<style scoped>\n",
       "    .dataframe tbody tr th:only-of-type {\n",
       "        vertical-align: middle;\n",
       "    }\n",
       "\n",
       "    .dataframe tbody tr th {\n",
       "        vertical-align: top;\n",
       "    }\n",
       "\n",
       "    .dataframe thead th {\n",
       "        text-align: right;\n",
       "    }\n",
       "</style>\n",
       "<table border=\"1\" class=\"dataframe\">\n",
       "  <thead>\n",
       "    <tr style=\"text-align: right;\">\n",
       "      <th></th>\n",
       "      <th>movieId</th>\n",
       "      <th>tagId</th>\n",
       "      <th>relevance</th>\n",
       "      <th>tag</th>\n",
       "    </tr>\n",
       "  </thead>\n",
       "  <tbody>\n",
       "    <tr>\n",
       "      <td>1043473</td>\n",
       "      <td>127098</td>\n",
       "      <td>230</td>\n",
       "      <td>0.90175</td>\n",
       "      <td>comedy</td>\n",
       "    </tr>\n",
       "    <tr>\n",
       "      <td>1043663</td>\n",
       "      <td>127098</td>\n",
       "      <td>742</td>\n",
       "      <td>0.82525</td>\n",
       "      <td>original</td>\n",
       "    </tr>\n",
       "    <tr>\n",
       "      <td>1043649</td>\n",
       "      <td>127098</td>\n",
       "      <td>691</td>\n",
       "      <td>0.79375</td>\n",
       "      <td>narrated</td>\n",
       "    </tr>\n",
       "    <tr>\n",
       "      <td>1043499</td>\n",
       "      <td>127098</td>\n",
       "      <td>289</td>\n",
       "      <td>0.74125</td>\n",
       "      <td>dark humor</td>\n",
       "    </tr>\n",
       "    <tr>\n",
       "      <td>1043510</td>\n",
       "      <td>127098</td>\n",
       "      <td>323</td>\n",
       "      <td>0.72675</td>\n",
       "      <td>drama</td>\n",
       "    </tr>\n",
       "    <tr>\n",
       "      <td>1043573</td>\n",
       "      <td>127098</td>\n",
       "      <td>468</td>\n",
       "      <td>0.71725</td>\n",
       "      <td>great ending</td>\n",
       "    </tr>\n",
       "    <tr>\n",
       "      <td>1043549</td>\n",
       "      <td>127098</td>\n",
       "      <td>417</td>\n",
       "      <td>0.67025</td>\n",
       "      <td>funny</td>\n",
       "    </tr>\n",
       "    <tr>\n",
       "      <td>1043782</td>\n",
       "      <td>127098</td>\n",
       "      <td>1071</td>\n",
       "      <td>0.66050</td>\n",
       "      <td>very funny</td>\n",
       "    </tr>\n",
       "    <tr>\n",
       "      <td>1043637</td>\n",
       "      <td>127098</td>\n",
       "      <td>646</td>\n",
       "      <td>0.65175</td>\n",
       "      <td>mentor</td>\n",
       "    </tr>\n",
       "    <tr>\n",
       "      <td>1043587</td>\n",
       "      <td>127098</td>\n",
       "      <td>505</td>\n",
       "      <td>0.63125</td>\n",
       "      <td>hilarious</td>\n",
       "    </tr>\n",
       "    <tr>\n",
       "      <td>1043586</td>\n",
       "      <td>127098</td>\n",
       "      <td>504</td>\n",
       "      <td>0.59950</td>\n",
       "      <td>highly quotable</td>\n",
       "    </tr>\n",
       "    <tr>\n",
       "      <td>1043571</td>\n",
       "      <td>127098</td>\n",
       "      <td>464</td>\n",
       "      <td>0.59475</td>\n",
       "      <td>great</td>\n",
       "    </tr>\n",
       "    <tr>\n",
       "      <td>1043688</td>\n",
       "      <td>127098</td>\n",
       "      <td>801</td>\n",
       "      <td>0.59275</td>\n",
       "      <td>pornography</td>\n",
       "    </tr>\n",
       "    <tr>\n",
       "      <td>1043604</td>\n",
       "      <td>127098</td>\n",
       "      <td>557</td>\n",
       "      <td>0.58525</td>\n",
       "      <td>intimate</td>\n",
       "    </tr>\n",
       "    <tr>\n",
       "      <td>1043783</td>\n",
       "      <td>127098</td>\n",
       "      <td>1073</td>\n",
       "      <td>0.58250</td>\n",
       "      <td>very interesting</td>\n",
       "    </tr>\n",
       "    <tr>\n",
       "      <td>1043574</td>\n",
       "      <td>127098</td>\n",
       "      <td>469</td>\n",
       "      <td>0.58025</td>\n",
       "      <td>great movie</td>\n",
       "    </tr>\n",
       "    <tr>\n",
       "      <td>1043484</td>\n",
       "      <td>127098</td>\n",
       "      <td>258</td>\n",
       "      <td>0.57425</td>\n",
       "      <td>corruption</td>\n",
       "    </tr>\n",
       "    <tr>\n",
       "      <td>1043762</td>\n",
       "      <td>127098</td>\n",
       "      <td>1008</td>\n",
       "      <td>0.57300</td>\n",
       "      <td>talky</td>\n",
       "    </tr>\n",
       "    <tr>\n",
       "      <td>1043758</td>\n",
       "      <td>127098</td>\n",
       "      <td>999</td>\n",
       "      <td>0.55025</td>\n",
       "      <td>suspense</td>\n",
       "    </tr>\n",
       "    <tr>\n",
       "      <td>1043603</td>\n",
       "      <td>127098</td>\n",
       "      <td>554</td>\n",
       "      <td>0.54350</td>\n",
       "      <td>interesting</td>\n",
       "    </tr>\n",
       "  </tbody>\n",
       "</table>\n",
       "</div>"
      ],
      "text/plain": [
       "         movieId  tagId  relevance               tag\n",
       "1043473   127098    230    0.90175            comedy\n",
       "1043663   127098    742    0.82525          original\n",
       "1043649   127098    691    0.79375          narrated\n",
       "1043499   127098    289    0.74125        dark humor\n",
       "1043510   127098    323    0.72675             drama\n",
       "1043573   127098    468    0.71725      great ending\n",
       "1043549   127098    417    0.67025             funny\n",
       "1043782   127098   1071    0.66050        very funny\n",
       "1043637   127098    646    0.65175            mentor\n",
       "1043587   127098    505    0.63125         hilarious\n",
       "1043586   127098    504    0.59950   highly quotable\n",
       "1043571   127098    464    0.59475             great\n",
       "1043688   127098    801    0.59275       pornography\n",
       "1043604   127098    557    0.58525          intimate\n",
       "1043783   127098   1073    0.58250  very interesting\n",
       "1043574   127098    469    0.58025       great movie\n",
       "1043484   127098    258    0.57425        corruption\n",
       "1043762   127098   1008    0.57300             talky\n",
       "1043758   127098    999    0.55025          suspense\n",
       "1043603   127098    554    0.54350       interesting"
      ]
     },
     "execution_count": 29,
     "metadata": {},
     "output_type": "execute_result"
    }
   ],
   "source": [
    "ud_movie_tags_relevance = pd.merge(genome_scores, \n",
    "                  ud_genome_tags,\n",
    "                  left_on='tagId',\n",
    "                  right_on='tagId',\n",
    "                  how='inner')\n",
    "ud_movie_tags_relevance=ud_movie_tags_relevance.loc[:,['movieId','tagId','relevance','tag']]\n",
    "print(\"Number of records including high relevance tags:\", ud_movie_tags_relevance.shape[0])\n",
    "ud_movie_tags_relevance = pd.merge(ud_movie_tags_relevance, \n",
    "                  ud_movie_fs,\n",
    "                  left_on='movieId',\n",
    "                  right_on='movieId',\n",
    "                  how='inner')\n",
    "ud_movie_tags_relevance=ud_movie_tags_relevance.loc[:,['movieId','tagId','relevance','tag']]\n",
    "print(\"Number of records including tags for movie subset:\",ud_movie_tags_relevance.shape[0])\n",
    "ud_movie_tags_relevance.sort_values(by=['movieId','relevance'],ascending=[False,False]).head(20)"
   ]
  },
  {
   "cell_type": "code",
   "execution_count": 30,
   "metadata": {},
   "outputs": [
    {
     "name": "stdout",
     "output_type": "stream",
     "text": [
      "movieId\t\ttagId\t\trelevance\n",
      "tagId\t\ttag\t\tMovies_With_High_Relevance\t\tAvg_Relevance\t\tAvg_Relevance_Filtered\n",
      "movieId\t\tgenres\t\tTitle\t\tYear\n",
      "userId\t\tmovieId\t\trating\t\ttimestamp\n",
      "userId\t\tmovieId\t\ttag\t\ttimestamp\n"
     ]
    }
   ],
   "source": [
    "print(\"\\t\\t\".join(genome_scores.columns))\n",
    "print(\"\\t\\t\".join(genome_tags.columns))\n",
    "print(\"\\t\\t\".join(movies.columns))\n",
    "print(\"\\t\\t\".join(ratings.columns))\n",
    "print(\"\\t\\t\".join(tag.columns))"
   ]
  },
  {
   "cell_type": "code",
   "execution_count": 31,
   "metadata": {},
   "outputs": [
    {
     "data": {
      "text/html": [
       "<div>\n",
       "<style scoped>\n",
       "    .dataframe tbody tr th:only-of-type {\n",
       "        vertical-align: middle;\n",
       "    }\n",
       "\n",
       "    .dataframe tbody tr th {\n",
       "        vertical-align: top;\n",
       "    }\n",
       "\n",
       "    .dataframe thead th {\n",
       "        text-align: right;\n",
       "    }\n",
       "</style>\n",
       "<table border=\"1\" class=\"dataframe\">\n",
       "  <thead>\n",
       "    <tr style=\"text-align: right;\">\n",
       "      <th></th>\n",
       "      <th>userId</th>\n",
       "      <th>movieId</th>\n",
       "      <th>rating</th>\n",
       "      <th>timestamp</th>\n",
       "    </tr>\n",
       "  </thead>\n",
       "  <tbody>\n",
       "    <tr>\n",
       "      <td>0</td>\n",
       "      <td>1</td>\n",
       "      <td>2</td>\n",
       "      <td>3.5</td>\n",
       "      <td>2005-04-02 23:53:47</td>\n",
       "    </tr>\n",
       "    <tr>\n",
       "      <td>1</td>\n",
       "      <td>1</td>\n",
       "      <td>29</td>\n",
       "      <td>3.5</td>\n",
       "      <td>2005-04-02 23:31:16</td>\n",
       "    </tr>\n",
       "    <tr>\n",
       "      <td>2</td>\n",
       "      <td>1</td>\n",
       "      <td>32</td>\n",
       "      <td>3.5</td>\n",
       "      <td>2005-04-02 23:33:39</td>\n",
       "    </tr>\n",
       "    <tr>\n",
       "      <td>3</td>\n",
       "      <td>1</td>\n",
       "      <td>47</td>\n",
       "      <td>3.5</td>\n",
       "      <td>2005-04-02 23:32:07</td>\n",
       "    </tr>\n",
       "    <tr>\n",
       "      <td>4</td>\n",
       "      <td>1</td>\n",
       "      <td>50</td>\n",
       "      <td>3.5</td>\n",
       "      <td>2005-04-02 23:29:40</td>\n",
       "    </tr>\n",
       "  </tbody>\n",
       "</table>\n",
       "</div>"
      ],
      "text/plain": [
       "   userId  movieId  rating            timestamp\n",
       "0       1        2     3.5  2005-04-02 23:53:47\n",
       "1       1       29     3.5  2005-04-02 23:31:16\n",
       "2       1       32     3.5  2005-04-02 23:33:39\n",
       "3       1       47     3.5  2005-04-02 23:32:07\n",
       "4       1       50     3.5  2005-04-02 23:29:40"
      ]
     },
     "execution_count": 31,
     "metadata": {},
     "output_type": "execute_result"
    }
   ],
   "source": [
    "ratings.head()"
   ]
  },
  {
   "cell_type": "code",
   "execution_count": 32,
   "metadata": {},
   "outputs": [
    {
     "data": {
      "text/plain": [
       "<matplotlib.axes._subplots.AxesSubplot at 0x7f66ce28efd0>"
      ]
     },
     "execution_count": 32,
     "metadata": {},
     "output_type": "execute_result"
    },
    {
     "data": {
      "image/png": "[encoded data removed]",
      "text/plain": [
       "<Figure size 432x288 with 1 Axes>"
      ]
     },
     "metadata": {
      "needs_background": "light"
     },
     "output_type": "display_data"
    }
   ],
   "source": [
    "ud_ratings=ratings.loc[ratings.movieId.isin(ud_movie_fs.movieId) ]\n",
    "ud_ratings.userId.value_counts().plot.box()"
   ]
  },
  {
   "cell_type": "markdown",
   "metadata": {},
   "source": [
    "It seems odd that there are users who have seen so many movies. Ideally they should be investigated for authenticity. But with value for effort in mind, I choose to drop these users for the time being and do more analysis in the future."
   ]
  },
  {
   "cell_type": "code",
   "execution_count": 33,
   "metadata": {},
   "outputs": [
    {
     "data": {
      "text/plain": [
       "230.0"
      ]
     },
     "execution_count": 33,
     "metadata": {},
     "output_type": "execute_result"
    }
   ],
   "source": [
    "ud_ratings.userId.value_counts().quantile(0.95)"
   ]
  },
  {
   "cell_type": "code",
   "execution_count": 34,
   "metadata": {},
   "outputs": [
    {
     "data": {
      "text/plain": [
       "<matplotlib.axes._subplots.AxesSubplot at 0x7f66ce1f1c50>"
      ]
     },
     "execution_count": 34,
     "metadata": {},
     "output_type": "execute_result"
    },
    {
     "data": {
      "image/png": "[encoded data removed]",
      "text/plain": [
       "<Figure size 432x288 with 1 Axes>"
      ]
     },
     "metadata": {
      "needs_background": "light"
     },
     "output_type": "display_data"
    }
   ],
   "source": [
    "ud_ratings.userId.value_counts().hist(bins=100)"
   ]
  },
  {
   "cell_type": "code",
   "execution_count": 35,
   "metadata": {},
   "outputs": [
    {
     "name": "stdout",
     "output_type": "stream",
     "text": [
      "Number of ratings after trimming out liers: 6778787\n"
     ]
    }
   ],
   "source": [
    "ss=pd.DataFrame(ud_ratings.userId.value_counts()).reset_index()\n",
    "ss.columns=['userId','Counts']\n",
    "ss=ss.loc[((ss.Counts<=250)&(ss.Counts>=3))]\n",
    "ud_ratings=ud_ratings.loc[ud_ratings.userId.isin(ss.userId)]\n",
    "print(\"Number of ratings after trimming out liers:\",ud_ratings.shape[0])"
   ]
  },
  {
   "cell_type": "code",
   "execution_count": 36,
   "metadata": {},
   "outputs": [
    {
     "ename": "MemoryError",
     "evalue": "",
     "output_type": "error",
     "traceback": [
      "\u001b[0;31m---------------------------------------------------------------------------\u001b[0m",
      "\u001b[0;31mMemoryError\u001b[0m                               Traceback (most recent call last)",
      "\u001b[0;32m<ipython-input-36-26a0c0bd4901>\u001b[0m in \u001b[0;36m<module>\u001b[0;34m\u001b[0m\n\u001b[1;32m      3\u001b[0m                   \u001b[0mleft_on\u001b[0m\u001b[0;34m=\u001b[0m\u001b[0;34m'movieId'\u001b[0m\u001b[0;34m,\u001b[0m\u001b[0;34m\u001b[0m\u001b[0m\n\u001b[1;32m      4\u001b[0m                   \u001b[0mright_on\u001b[0m\u001b[0;34m=\u001b[0m\u001b[0;34m'movieId'\u001b[0m\u001b[0;34m,\u001b[0m\u001b[0;34m\u001b[0m\u001b[0m\n\u001b[0;32m----> 5\u001b[0;31m                   how='inner')\n\u001b[0m\u001b[1;32m      6\u001b[0m \u001b[0;31m#ud_movie_tags_relevance=ud_movie_tags_relevance.loc[:,['movieId','tagId','relevance','tag']]\u001b[0m\u001b[0;34m\u001b[0m\u001b[0;34m\u001b[0m\u001b[0m\n\u001b[1;32m      7\u001b[0m \u001b[0mprint\u001b[0m\u001b[0;34m(\u001b[0m\u001b[0mud_user_movie_tags_rating\u001b[0m\u001b[0;34m.\u001b[0m\u001b[0mshape\u001b[0m\u001b[0;34m)\u001b[0m\u001b[0;34m\u001b[0m\u001b[0m\n",
      "\u001b[0;32m/opt/conda/lib/python3.6/site-packages/pandas/core/reshape/merge.py\u001b[0m in \u001b[0;36mmerge\u001b[0;34m(left, right, how, on, left_on, right_on, left_index, right_index, sort, suffixes, copy, indicator, validate)\u001b[0m\n\u001b[1;32m     81\u001b[0m         \u001b[0mvalidate\u001b[0m\u001b[0;34m=\u001b[0m\u001b[0mvalidate\u001b[0m\u001b[0;34m,\u001b[0m\u001b[0;34m\u001b[0m\u001b[0m\n\u001b[1;32m     82\u001b[0m     )\n\u001b[0;32m---> 83\u001b[0;31m     \u001b[0;32mreturn\u001b[0m \u001b[0mop\u001b[0m\u001b[0;34m.\u001b[0m\u001b[0mget_result\u001b[0m\u001b[0;34m(\u001b[0m\u001b[0;34m)\u001b[0m\u001b[0;34m\u001b[0m\u001b[0m\n\u001b[0m\u001b[1;32m     84\u001b[0m \u001b[0;34m\u001b[0m\u001b[0m\n\u001b[1;32m     85\u001b[0m \u001b[0;34m\u001b[0m\u001b[0m\n",
      "\u001b[0;32m/opt/conda/lib/python3.6/site-packages/pandas/core/reshape/merge.py\u001b[0m in \u001b[0;36mget_result\u001b[0;34m(self)\u001b[0m\n\u001b[1;32m    640\u001b[0m             \u001b[0mself\u001b[0m\u001b[0;34m.\u001b[0m\u001b[0mleft\u001b[0m\u001b[0;34m,\u001b[0m \u001b[0mself\u001b[0m\u001b[0;34m.\u001b[0m\u001b[0mright\u001b[0m \u001b[0;34m=\u001b[0m \u001b[0mself\u001b[0m\u001b[0;34m.\u001b[0m\u001b[0m_indicator_pre_merge\u001b[0m\u001b[0;34m(\u001b[0m\u001b[0mself\u001b[0m\u001b[0;34m.\u001b[0m\u001b[0mleft\u001b[0m\u001b[0;34m,\u001b[0m \u001b[0mself\u001b[0m\u001b[0;34m.\u001b[0m\u001b[0mright\u001b[0m\u001b[0;34m)\u001b[0m\u001b[0;34m\u001b[0m\u001b[0m\n\u001b[1;32m    641\u001b[0m \u001b[0;34m\u001b[0m\u001b[0m\n\u001b[0;32m--> 642\u001b[0;31m         \u001b[0mjoin_index\u001b[0m\u001b[0;34m,\u001b[0m \u001b[0mleft_indexer\u001b[0m\u001b[0;34m,\u001b[0m \u001b[0mright_indexer\u001b[0m \u001b[0;34m=\u001b[0m \u001b[0mself\u001b[0m\u001b[0;34m.\u001b[0m\u001b[0m_get_join_info\u001b[0m\u001b[0;34m(\u001b[0m\u001b[0;34m)\u001b[0m\u001b[0;34m\u001b[0m\u001b[0m\n\u001b[0m\u001b[1;32m    643\u001b[0m \u001b[0;34m\u001b[0m\u001b[0m\n\u001b[1;32m    644\u001b[0m         \u001b[0mldata\u001b[0m\u001b[0;34m,\u001b[0m \u001b[0mrdata\u001b[0m \u001b[0;34m=\u001b[0m \u001b[0mself\u001b[0m\u001b[0;34m.\u001b[0m\u001b[0mleft\u001b[0m\u001b[0;34m.\u001b[0m\u001b[0m_data\u001b[0m\u001b[0;34m,\u001b[0m \u001b[0mself\u001b[0m\u001b[0;34m.\u001b[0m\u001b[0mright\u001b[0m\u001b[0;34m.\u001b[0m\u001b[0m_data\u001b[0m\u001b[0;34m\u001b[0m\u001b[0m\n",
      "\u001b[0;32m/opt/conda/lib/python3.6/site-packages/pandas/core/reshape/merge.py\u001b[0m in \u001b[0;36m_get_join_info\u001b[0;34m(self)\u001b[0m\n\u001b[1;32m    857\u001b[0m             )\n\u001b[1;32m    858\u001b[0m         \u001b[0;32melse\u001b[0m\u001b[0;34m:\u001b[0m\u001b[0;34m\u001b[0m\u001b[0m\n\u001b[0;32m--> 859\u001b[0;31m             \u001b[0;34m(\u001b[0m\u001b[0mleft_indexer\u001b[0m\u001b[0;34m,\u001b[0m \u001b[0mright_indexer\u001b[0m\u001b[0;34m)\u001b[0m \u001b[0;34m=\u001b[0m \u001b[0mself\u001b[0m\u001b[0;34m.\u001b[0m\u001b[0m_get_join_indexers\u001b[0m\u001b[0;34m(\u001b[0m\u001b[0;34m)\u001b[0m\u001b[0;34m\u001b[0m\u001b[0m\n\u001b[0m\u001b[1;32m    860\u001b[0m \u001b[0;34m\u001b[0m\u001b[0m\n\u001b[1;32m    861\u001b[0m             \u001b[0;32mif\u001b[0m \u001b[0mself\u001b[0m\u001b[0;34m.\u001b[0m\u001b[0mright_index\u001b[0m\u001b[0;34m:\u001b[0m\u001b[0;34m\u001b[0m\u001b[0m\n",
      "\u001b[0;32m/opt/conda/lib/python3.6/site-packages/pandas/core/reshape/merge.py\u001b[0m in \u001b[0;36m_get_join_indexers\u001b[0;34m(self)\u001b[0m\n\u001b[1;32m    836\u001b[0m         \u001b[0;34m\"\"\" return the join indexers \"\"\"\u001b[0m\u001b[0;34m\u001b[0m\u001b[0m\n\u001b[1;32m    837\u001b[0m         return _get_join_indexers(\n\u001b[0;32m--> 838\u001b[0;31m             \u001b[0mself\u001b[0m\u001b[0;34m.\u001b[0m\u001b[0mleft_join_keys\u001b[0m\u001b[0;34m,\u001b[0m \u001b[0mself\u001b[0m\u001b[0;34m.\u001b[0m\u001b[0mright_join_keys\u001b[0m\u001b[0;34m,\u001b[0m \u001b[0msort\u001b[0m\u001b[0;34m=\u001b[0m\u001b[0mself\u001b[0m\u001b[0;34m.\u001b[0m\u001b[0msort\u001b[0m\u001b[0;34m,\u001b[0m \u001b[0mhow\u001b[0m\u001b[0;34m=\u001b[0m\u001b[0mself\u001b[0m\u001b[0;34m.\u001b[0m\u001b[0mhow\u001b[0m\u001b[0;34m\u001b[0m\u001b[0m\n\u001b[0m\u001b[1;32m    839\u001b[0m         )\n\u001b[1;32m    840\u001b[0m \u001b[0;34m\u001b[0m\u001b[0m\n",
      "\u001b[0;32m/opt/conda/lib/python3.6/site-packages/pandas/core/reshape/merge.py\u001b[0m in \u001b[0;36m_get_join_indexers\u001b[0;34m(left_keys, right_keys, sort, how, **kwargs)\u001b[0m\n\u001b[1;32m   1318\u001b[0m     \u001b[0mjoin_func\u001b[0m \u001b[0;34m=\u001b[0m \u001b[0m_join_functions\u001b[0m\u001b[0;34m[\u001b[0m\u001b[0mhow\u001b[0m\u001b[0;34m]\u001b[0m\u001b[0;34m\u001b[0m\u001b[0m\n\u001b[1;32m   1319\u001b[0m \u001b[0;34m\u001b[0m\u001b[0m\n\u001b[0;32m-> 1320\u001b[0;31m     \u001b[0;32mreturn\u001b[0m \u001b[0mjoin_func\u001b[0m\u001b[0;34m(\u001b[0m\u001b[0mlkey\u001b[0m\u001b[0;34m,\u001b[0m \u001b[0mrkey\u001b[0m\u001b[0;34m,\u001b[0m \u001b[0mcount\u001b[0m\u001b[0;34m,\u001b[0m \u001b[0;34m**\u001b[0m\u001b[0mkwargs\u001b[0m\u001b[0;34m)\u001b[0m\u001b[0;34m\u001b[0m\u001b[0m\n\u001b[0m\u001b[1;32m   1321\u001b[0m \u001b[0;34m\u001b[0m\u001b[0m\n\u001b[1;32m   1322\u001b[0m \u001b[0;34m\u001b[0m\u001b[0m\n",
      "\u001b[0;32mpandas/_libs/join.pyx\u001b[0m in \u001b[0;36mpandas._libs.join.inner_join\u001b[0;34m()\u001b[0m\n",
      "\u001b[0;31mMemoryError\u001b[0m: "
     ]
    }
   ],
   "source": [
    "ud_user_movie_tags_rating = pd.merge(ud_ratings, \n",
    "                  ud_movie_tags_relevance,\n",
    "                  left_on='movieId',\n",
    "                  right_on='movieId',\n",
    "                  how='inner')\n",
    "#ud_movie_tags_relevance=ud_movie_tags_relevance.loc[:,['movieId','tagId','relevance','tag']]\n",
    "print(ud_user_movie_tags_rating.shape)\n",
    "ud_user_movie_tags_rating.head()"
   ]
  },
  {
   "cell_type": "code",
   "execution_count": null,
   "metadata": {},
   "outputs": [],
   "source": []
  },
  {
   "cell_type": "code",
   "execution_count": null,
   "metadata": {},
   "outputs": [],
   "source": []
  }
 ],
 "metadata": {
  "kernelspec": {
   "display_name": "Python 3",
   "language": "python",
   "name": "python3"
  },
  "language_info": {
   "codemirror_mode": {
    "name": "ipython",
    "version": 3
   },
   "file_extension": ".py",
   "mimetype": "text/x-python",
   "name": "python",
   "nbconvert_exporter": "python",
   "pygments_lexer": "ipython3",
   "version": "3.6.6"
  }
 },
 "nbformat": 4,
 "nbformat_minor": 1
}
